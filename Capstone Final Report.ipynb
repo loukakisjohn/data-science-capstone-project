{
    "cells": [
        {
            "cell_type": "markdown",
            "metadata": {
                "collapsed": true
            },
            "source": "## INTRODUCTION"
        },
        {
            "cell_type": "markdown",
            "metadata": {},
            "source": "#### Our clients are looking into opening a Mediterranean restaurant in Toronto and they are looking to choose a few candidate neighborhoods to investigate whether they would be appropriate for this new venture. They do not want to go to every neighborhood in Toronto (that would take time) so they have hired us (i.e. \u201ccharlatan bros consulting firm\u201d) to filter out inappropriate neighborhoods and give them a reduced list for further \u201cmore manual\u201d investigation. \n\n#### We suggest to look at neighborhoods with a significant population, a history of ethnic food culture and very few competitors. So, a populated neighborhood with no restaurants might sound attractive, but we wouldn\u2019t recommend it as it sounds like this neighborhood might not be an attraction pole for foodies that like lot\u2019s of ethnic options. We will flag venues as ethnic competitors (ex Italian, Middle-Eastern, Portuguese, Turkish, Greek are all direct competitors) and ethnic non competitors (ex Chinese, Indian, Mexican etc). We will cluster the neighborhoods and will recommend cluster with populated neighborhoods with a low concentration of ethnic competitors and a high concentration of ethnic non competitors. We want a lot of potential clients (high population), no direct competition (few or no Mediterranean restaurants) and a lot of indirect competitions that could attract foodies and serve in a symbiotic way. \n"
        },
        {
            "cell_type": "markdown",
            "metadata": {},
            "source": "## DATA"
        },
        {
            "cell_type": "markdown",
            "metadata": {},
            "source": "#### The data sources we will use contain the zip codes of the toronto neighborhoods (scraped from wikipedia), data pulled from the foursquare API that will give us venue locations and venue types, and census data available online, where we can find the population in each neighborhood. "
        },
        {
            "cell_type": "markdown",
            "metadata": {},
            "source": "## METHODOLOGY"
        },
        {
            "cell_type": "markdown",
            "metadata": {},
            "source": "#### THE FOLLOWING STEPS WERE COMPLETED:\n\n#### 1) We imported the zipcode table into the Jupyter environment and manipulated the data to a useful form (we kept only the assigned burrows of Toronto and collapsed duplicate lines)\n#### 2) Downloaded the geospatial coordinates\n#### 3) Imported the Census data and added the population to the data set\n#### 4) Imported the foursquare data and added the velue name and category in the dataset--Limited to the 100 closest venues on a radius of 500 meters\n#### 5) Flagged the competition (ethnic restaurants) into ethnic competitors (ethnic restaurants serving mediterranean food) and ethnic non-competitors (ethnic restaurants serving non-mediterranean food). We collapsed the data set into 1 row per neighborhood and standardized the competition into residents/venue to be able to distinguish pockets of opportunity for the new restaurant. These variables were created to help us cluster the neighborhoods into different groups\n#### 6) We standardized the clustering variables by using their mean and standard deviation. These variables have different units so standardization was necessary to remove their \"weighted effect\" on the clustering algorithms\n#### 7) We decided to try 2 clustering techniques: K-Means and Gaussian Mixture Models (GMM). K-means is the default algorithm to solve many business problems, and GMM is an algorithm that handles variance a little better. Since our 3 clustering variables are all continuous (population, residents per ethnic competitor, residents per ethnic non competitor), we suspected the GMM might give us a better clustering solution. We used the \"elbow method\" using the BIC statistic to determine the number of clusters. We determined that a clustering solution between 3 and 8 clusters would be the most appropriate since less than 3 does not solve the business problem and more than 8 might be an impractical clustering solution for a list of only 37 neighborhoods. Nevertheless, we run the elbow method on 1-12 clusters to see if there was anything interesting in the data also for clusters outside our preferred range.  "
        },
        {
            "cell_type": "markdown",
            "metadata": {},
            "source": "## DISCUSSION/CONCLUSION"
        },
        {
            "cell_type": "markdown",
            "metadata": {},
            "source": "#### Based on the \"Elbow method\" we resorted to running the K-Means algorithm for 3 and 4 clusters and the GMM algorithm for 3, 6 and 7 clusters. The GMM clustering solution gave us the most useful results was the GMM-7 clusters one. The 7 clusters looked the most distinguished in terms of the 3 clustering variables that we used. \n\n#### As mentioned in the \"introduction\" section of this report, ideal neighborhoods will be densely populated with a low concentration of ethnic competitors (ie high residents per ethnic competitor) and a high concentration of ethnic non competitors (ie low residents per ethnic non-competitor). \n\n#### The clusters that are most attractive based on the criteria above are clusters 0, 2 and 4. They are appear to be densely populated, with a small number of direct competitors and a large number of other ethnic restaurants. Especially cluster 4 seems to have no Mediterranean restaurants, so we recommend to start looking at the neighborhoods of this cluster first. Also, we would advice to stay away from clusters 1 and 6. They look densely populated and have NO ethnic restaurants, which in theory, could mean that an opportunity of opening there is tremendous. However, based on our established notion of \"there is no free lunch\" we are very suspecious of these clusters. If the opportunity was so immense indeed, ethnic restaurants would have already been established there. Maybe the residents in these neighborhoods do not appreciate ethnic food ot maybe there is some leagl framwork that would make your venture an impossible task. \n\n#### Last, one weakness of the clustering methods the way we used them is that individual clusters represent averages of the variables of interest. An average population of 15K (cluster 0) does not mean that each neighborhood in this cluster contains 15K residents. Additional spread analysis needs to be conducted in these clusters. Our clustering solution can only serve as a \"ball-park\" initial analysis designed to reduce the time of the indespensable more manual analysis that needs to follow after. "
        }
    ],
    "metadata": {
        "kernelspec": {
            "display_name": "Python 3.6",
            "language": "python",
            "name": "python3"
        },
        "language_info": {
            "codemirror_mode": {
                "name": "ipython",
                "version": 3
            },
            "file_extension": ".py",
            "mimetype": "text/x-python",
            "name": "python",
            "nbconvert_exporter": "python",
            "pygments_lexer": "ipython3",
            "version": "3.6.8"
        }
    },
    "nbformat": 4,
    "nbformat_minor": 1
}